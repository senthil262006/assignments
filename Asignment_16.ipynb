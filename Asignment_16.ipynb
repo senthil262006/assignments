{
 "cells": [
  {
   "cell_type": "markdown",
   "id": "678294f2",
   "metadata": {},
   "source": [
    "# Assignment_16"
   ]
  },
  {
   "cell_type": "markdown",
   "id": "0c22106b",
   "metadata": {},
   "source": [
    "1. Create a list called years_list, starting with the year of your birth, and each year thereafter until\n",
    "the year of your fifth birthday. For example, if you were born in 1980. the list would be years_list =\n",
    "[1980, 1981, 1982, 1983, 1984, 1985].\n"
   ]
  },
  {
   "cell_type": "code",
   "execution_count": 16,
   "id": "9593e824",
   "metadata": {},
   "outputs": [
    {
     "data": {
      "text/plain": [
       "[1981, 1982, 1983, 1984, 1985]"
      ]
     },
     "execution_count": 16,
     "metadata": {},
     "output_type": "execute_result"
    }
   ],
   "source": [
    " years_list = list(range(1981,1986))"
   ]
  },
  {
   "cell_type": "markdown",
   "id": "a5eadbc4",
   "metadata": {},
   "source": [
    "2. In which year in years_list was your third birthday? Remember, you were 0 years of age for your\n",
    "first year."
   ]
  },
  {
   "cell_type": "code",
   "execution_count": 17,
   "id": "2eb767cf",
   "metadata": {},
   "outputs": [
    {
     "data": {
      "text/plain": [
       "1984"
      ]
     },
     "execution_count": 17,
     "metadata": {},
     "output_type": "execute_result"
    }
   ],
   "source": [
    " years_list[3]"
   ]
  },
  {
   "cell_type": "markdown",
   "id": "60a5ee7d",
   "metadata": {},
   "source": [
    "3.In the years list, which year were you the oldest?"
   ]
  },
  {
   "cell_type": "code",
   "execution_count": 18,
   "id": "b4b23a1d",
   "metadata": {},
   "outputs": [
    {
     "data": {
      "text/plain": [
       "1985"
      ]
     },
     "execution_count": 18,
     "metadata": {},
     "output_type": "execute_result"
    }
   ],
   "source": [
    "years_list[-1]"
   ]
  },
  {
   "cell_type": "markdown",
   "id": "d72f2f09",
   "metadata": {},
   "source": [
    "4. Make a list called things with these three strings as elements: \"mozzarella\", \"cinderella&quot\"\n",
    "\"salmonella\""
   ]
  },
  {
   "cell_type": "code",
   "execution_count": 19,
   "id": "4154f94c",
   "metadata": {},
   "outputs": [],
   "source": [
    "things=[\"mozzarella\", \"cinderella&quot\",\"salmonella\"]"
   ]
  },
  {
   "cell_type": "markdown",
   "id": "bdb609e1",
   "metadata": {},
   "source": [
    "5. Capitalize the element in things that refers to a person and then print the list. Did it change the\n",
    "element in the list?"
   ]
  },
  {
   "cell_type": "code",
   "execution_count": 22,
   "id": "c6bfb9c2",
   "metadata": {},
   "outputs": [
    {
     "name": "stdout",
     "output_type": "stream",
     "text": [
      "['Mozzarella', 'Cinderella&quot', 'Salmonella']\n",
      "['Mozzarella', 'Cinderella&quot', 'Salmonella']\n"
     ]
    }
   ],
   "source": [
    "persons=things\n",
    "for i in range(len(things)):\n",
    "    things[i]=things[i].capitalize()\n",
    "print(things)    \n",
    "print(persons)   \n",
    "\n",
    "#yes list person also chaging\n",
    "    "
   ]
  },
  {
   "cell_type": "markdown",
   "id": "37782bf6",
   "metadata": {},
   "source": [
    "6. Make a surprise list with the elements \"Groucho\" \"Chico\" and \"Harpo\""
   ]
  },
  {
   "cell_type": "code",
   "execution_count": 24,
   "id": "6b0c7d52",
   "metadata": {},
   "outputs": [],
   "source": [
    "surprise=[\"Groucho\", \"Chico\", \"Harpo\"]"
   ]
  },
  {
   "cell_type": "markdown",
   "id": "d6ae9929",
   "metadata": {},
   "source": [
    "\n",
    "7. Lowercase the last element of the surprise list, reverse it, and then capitalize it."
   ]
  },
  {
   "cell_type": "code",
   "execution_count": 42,
   "id": "cc6ff0fc",
   "metadata": {},
   "outputs": [
    {
     "data": {
      "text/plain": [
       "'opraH'"
      ]
     },
     "execution_count": 42,
     "metadata": {},
     "output_type": "execute_result"
    }
   ],
   "source": [
    "surprise[-1].capitalize()[::-1]"
   ]
  },
  {
   "cell_type": "markdown",
   "id": "eb01d06d",
   "metadata": {},
   "source": [
    "8. Make an English-to-French dictionary called e2f and print it. Here are your starter words: dog is"
   ]
  },
  {
   "cell_type": "code",
   "execution_count": 45,
   "id": "0684a486",
   "metadata": {},
   "outputs": [],
   "source": [
    "e2f={'dog':'chien', 'cat':'chat',\"walrus\":\"morse\"} "
   ]
  },
  {
   "cell_type": "code",
   "execution_count": 46,
   "id": "5218d76e",
   "metadata": {},
   "outputs": [
    {
     "data": {
      "text/plain": [
       "{'dog': 'chien', 'cat': 'chat', 'walrus': 'morse'}"
      ]
     },
     "execution_count": 46,
     "metadata": {},
     "output_type": "execute_result"
    }
   ],
   "source": [
    "e2f"
   ]
  },
  {
   "cell_type": "markdown",
   "id": "28c02010",
   "metadata": {},
   "source": [
    "9. Write the French word for walrus in your three-word dictionary e2f."
   ]
  },
  {
   "cell_type": "code",
   "execution_count": 49,
   "id": "a4aef947",
   "metadata": {},
   "outputs": [
    {
     "name": "stdout",
     "output_type": "stream",
     "text": [
      "the the French word for walrus: morse\n"
     ]
    }
   ],
   "source": [
    "print(F\"the the French word for walrus: {e2f['walrus']}\" )"
   ]
  },
  {
   "cell_type": "markdown",
   "id": "8e99c229",
   "metadata": {},
   "source": [
    "10. Make a French-to-English dictionary called f2e from e2f. Use the items method."
   ]
  },
  {
   "cell_type": "code",
   "execution_count": 66,
   "id": "45bfdaaa",
   "metadata": {},
   "outputs": [
    {
     "data": {
      "text/plain": [
       "{'chien': 'dog', 'chat': 'cat', 'morse': 'walrus'}"
      ]
     },
     "execution_count": 66,
     "metadata": {},
     "output_type": "execute_result"
    }
   ],
   "source": [
    "f2e={y:x for x,y in list(e2f.items())}\n",
    "f2e  "
   ]
  },
  {
   "cell_type": "markdown",
   "id": "3d781306",
   "metadata": {},
   "source": [
    "12. Make and print a set of English words from the keys in e2f."
   ]
  },
  {
   "cell_type": "code",
   "execution_count": 68,
   "id": "711a6239",
   "metadata": {},
   "outputs": [
    {
     "data": {
      "text/plain": [
       "{'cat', 'dog', 'walrus'}"
      ]
     },
     "execution_count": 68,
     "metadata": {},
     "output_type": "execute_result"
    }
   ],
   "source": [
    "set(e2f.keys())"
   ]
  },
  {
   "cell_type": "markdown",
   "id": "4e861360",
   "metadata": {},
   "source": [
    "13. Make a multilevel dictionary called life. Use these strings for the topmost keys:'animals','plants',\n",
    "and'other'. Make the'animals' key refer to another dictionary with the keys'cats','octopi', and\n",
    "'emus'. Make the'cats' key refer to a list of strings with the values'Henri','Grumpy', and'Lucy'.\n",
    "Make all the other keys refer to empty dictionaries"
   ]
  },
  {
   "cell_type": "code",
   "execution_count": 85,
   "id": "05f2c29b",
   "metadata": {},
   "outputs": [],
   "source": [
    "life={'animals':{'cats':['Henri','Grumpy','Lucy'], 'octopi':{}, 'emus':{}}, 'plants':{}, 'others':{}}"
   ]
  },
  {
   "cell_type": "code",
   "execution_count": 72,
   "id": "cd90e160",
   "metadata": {},
   "outputs": [
    {
     "data": {
      "text/plain": [
       "{'animals': {'cat': ['Henri', 'Grumpy', 'Lucy'], 'octopi': {}, 'emus': {}},\n",
       " 'plants': {},\n",
       " 'others': {}}"
      ]
     },
     "execution_count": 72,
     "metadata": {},
     "output_type": "execute_result"
    }
   ],
   "source": [
    "life"
   ]
  },
  {
   "cell_type": "markdown",
   "id": "b6719ad5",
   "metadata": {},
   "source": [
    "14. Print the top-level keys of life."
   ]
  },
  {
   "cell_type": "code",
   "execution_count": 86,
   "id": "98e5c799",
   "metadata": {},
   "outputs": [
    {
     "name": "stdout",
     "output_type": "stream",
     "text": [
      "dict_keys(['animals', 'plants', 'others'])\n"
     ]
    }
   ],
   "source": [
    "print(life.keys())"
   ]
  },
  {
   "cell_type": "markdown",
   "id": "f309eb38",
   "metadata": {},
   "source": [
    "15. Print the keys for life['animals']."
   ]
  },
  {
   "cell_type": "code",
   "execution_count": 87,
   "id": "8a89e9a5",
   "metadata": {},
   "outputs": [
    {
     "data": {
      "text/plain": [
       "dict_keys(['cats', 'octopi', 'emus'])"
      ]
     },
     "execution_count": 87,
     "metadata": {},
     "output_type": "execute_result"
    }
   ],
   "source": [
    "life['animals'].keys()"
   ]
  },
  {
   "cell_type": "markdown",
   "id": "7e977593",
   "metadata": {},
   "source": [
    "\n",
    "\n",
    "\n",
    "\n",
    "\n",
    "\n",
    ".\n",
    "\n",
    "\n",
    "\n",
    "\n",
    "\n",
    "\n",
    "\n",
    "16. Print the values for life[\"animals\"][\";cats\"]"
   ]
  },
  {
   "cell_type": "code",
   "execution_count": 88,
   "id": "48a634c6",
   "metadata": {},
   "outputs": [
    {
     "data": {
      "text/plain": [
       "['Henri', 'Grumpy', 'Lucy']"
      ]
     },
     "execution_count": 88,
     "metadata": {},
     "output_type": "execute_result"
    }
   ],
   "source": [
    "life[\"animals\"]['cats']"
   ]
  },
  {
   "cell_type": "code",
   "execution_count": null,
   "id": "2d2e0e96",
   "metadata": {},
   "outputs": [],
   "source": []
  },
  {
   "cell_type": "code",
   "execution_count": null,
   "id": "37e07654",
   "metadata": {},
   "outputs": [],
   "source": []
  }
 ],
 "metadata": {
  "kernelspec": {
   "display_name": "Python 3 (ipykernel)",
   "language": "python",
   "name": "python3"
  },
  "language_info": {
   "codemirror_mode": {
    "name": "ipython",
    "version": 3
   },
   "file_extension": ".py",
   "mimetype": "text/x-python",
   "name": "python",
   "nbconvert_exporter": "python",
   "pygments_lexer": "ipython3",
   "version": "3.9.13"
  }
 },
 "nbformat": 4,
 "nbformat_minor": 5
}
